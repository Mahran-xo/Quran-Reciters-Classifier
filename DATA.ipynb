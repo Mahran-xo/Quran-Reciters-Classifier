{
 "cells": [
  {
   "cell_type": "code",
   "execution_count": 1,
   "metadata": {},
   "outputs": [
    {
     "name": "stderr",
     "output_type": "stream",
     "text": [
      "/tmp/ipykernel_1840413/1090648631.py:8: DeprecationWarning: \n",
      "Pyarrow will become a required dependency of pandas in the next major release of pandas (pandas 3.0),\n",
      "(to allow more performant data types, such as the Arrow string type, and better interoperability with other libraries)\n",
      "but was not found to be installed on your system.\n",
      "If this would cause problems for you,\n",
      "please provide us feedback at https://github.com/pandas-dev/pandas/issues/54466\n",
      "        \n",
      "  import pandas as pd\n"
     ]
    }
   ],
   "source": [
    "from pytube import YouTube\n",
    "from pydub import AudioSegment\n",
    "from pytube import Playlist\n",
    "import os\n",
    "import re\n",
    "from glob import glob\n",
    "from tqdm import tqdm\n",
    "import pandas as pd\n",
    "import random"
   ]
  },
  {
   "cell_type": "code",
   "execution_count": 2,
   "metadata": {},
   "outputs": [],
   "source": [
    "def flow():\n",
    "    \"\"\"\n",
    "    - input the playlists for each qare2\n",
    "\n",
    "    - logg in the qare2 and the sura (`logg_in()`)\n",
    "\n",
    "    - check , if the qare2 (extract the name from the title using `get_reciter()`)\\\n",
    "      has more than 4 occurences ( using the function `get_thresh()`) for the same sura then find another sura\\\n",
    "      for the same qare2 using the function `random_slicer()` which slices three random links from the urls in the\\\n",
    "      playlist.\n",
    "    \n",
    "    - download the sura (keeping the name of the reciter and the sura)\n",
    "\n",
    "    - split the sura into 100 segments (1 second each)\n",
    "\n",
    "    - save them with the prefix containing the qare2's name and index\n",
    "  \n",
    "\n",
    "    \"\"\"\n",
    "pass\n"
   ]
  },
  {
   "cell_type": "code",
   "execution_count": 3,
   "metadata": {},
   "outputs": [],
   "source": [
    "RECITERS = [\n",
    "    \"احمد الشلبي\",\n",
    "    \"علاء عقل\",\n",
    "    \"اسماعيل القاضي\",\n",
    "    \"علاء ياسر\",\n",
    "    \"محمد حجازي\",\n",
    "    \"محمد نصر الدين\",\n",
    "    \"مختار الحاج\",\n",
    "    \"إرويانتو\",\n",
    "    \"زين ابو كوثر\",\n",
    "    \"Zain Abu Kautsar\",\n",
    "    \"حسين عبد الظاهر\",\n",
    "    \"طارق محمد\",\n",
    "    \"عبد الباسط\",\n",
    "    \"المنشاوي\",\n",
    "    \"عبد العزيز سحيم\",\n",
    "    \"المنشاوي\"\n",
    "]\n"
   ]
  },
  {
   "cell_type": "code",
   "execution_count": 4,
   "metadata": {},
   "outputs": [],
   "source": [
    "df = pd.DataFrame(columns = ['reciter','sura'])"
   ]
  },
  {
   "cell_type": "code",
   "execution_count": 5,
   "metadata": {},
   "outputs": [],
   "source": [
    "def get_thresh(df,reciter,sura):\n",
    "    # Filter DataFrame based on the conditions\n",
    "    filtered_df = df[df['reciter'] == reciter]\n",
    "    if len(filtered_df[filtered_df['sura'] == sura]) > 4:\n",
    "         return True"
   ]
  },
  {
   "cell_type": "code",
   "execution_count": 6,
   "metadata": {},
   "outputs": [],
   "source": [
    "def get_reciter(RECITERS, string):\n",
    "    matches = [substring for substring in RECITERS if substring.lower() in string.lower()]\n",
    "    \n",
    "    if not matches:\n",
    "        # No match found\n",
    "        return None  # or raise an exception, return a default value, etc.\n",
    "    \n",
    "    return matches[0]\n",
    "\n",
    "def get_sura(title):\n",
    "    match = re.search(r\"سورة\\s[الء-ي]+\", title)\n",
    "    \n",
    "    if match is None:\n",
    "        # No match found\n",
    "        return None  # or raise an exception, return a default value, etc.\n",
    "    \n",
    "    return match.group(0)"
   ]
  },
  {
   "cell_type": "code",
   "execution_count": 7,
   "metadata": {},
   "outputs": [],
   "source": [
    "def logging_in(reciter ,title,df):\n",
    "    \"\"\"\n",
    "    logginf in the name of the reciter and the name of the sura\n",
    "    \"\"\"\n",
    "    sura = get_sura(title)\n",
    "    reciter_name = reciter\n",
    "    new_row = {'reciter': reciter_name, 'sura':sura}\n",
    "    print(f\"logging in {reciter} for {sura}\")\n",
    "    df.loc[len(df)] = new_row\n",
    "    return df"
   ]
  },
  {
   "cell_type": "code",
   "execution_count": 8,
   "metadata": {},
   "outputs": [],
   "source": [
    "def random_slicer(input_list, num_items=3):\n",
    "    \"\"\"\n",
    "    slices three random items from a list\n",
    "    \"\"\"\n",
    "    # Make a copy of the input list to avoid modifying the original list\n",
    "    input_list = list(input_list)\n",
    "    shuffled_list = input_list.copy()\n",
    "\n",
    "    # Shuffle the list randomly\n",
    "    random.shuffle(shuffled_list)\n",
    "\n",
    "    # Slice the first 'num_items' elements from the shuffled list\n",
    "    sliced_items = shuffled_list[:num_items]\n",
    "\n",
    "    return sliced_items"
   ]
  },
  {
   "cell_type": "code",
   "execution_count": 9,
   "metadata": {},
   "outputs": [],
   "source": [
    "def get_title(url):\n",
    "    yt = YouTube(url)\n",
    "    audio_stream = yt.streams.get_audio_only(\"mp4\")\n",
    "    return audio_stream.title"
   ]
  },
  {
   "cell_type": "code",
   "execution_count": 10,
   "metadata": {},
   "outputs": [],
   "source": [
    "def download_youtube_audio(url, output_path):\n",
    "    yt = YouTube(url)\n",
    "    audio_stream = yt.streams.filter(only_audio=True).all() \n",
    "    audio_stream[0].download(output_path)"
   ]
  },
  {
   "cell_type": "code",
   "execution_count": 11,
   "metadata": {},
   "outputs": [],
   "source": [
    "def download_audio_from_playlist(url, output_path, df):\n",
    "    try:\n",
    "        playlist = Playlist(url)\n",
    "        urls = playlist.video_urls\n",
    "\n",
    "        sura = None  # Initialize sura outside the loop\n",
    "\n",
    "        while True:\n",
    "            shuffled_playlist = random_slicer(urls, 10)\n",
    "\n",
    "            for url in shuffled_playlist:\n",
    "                title = get_title(url)\n",
    "                reciter = get_reciter(RECITERS, title)\n",
    "\n",
    "                if reciter is None:\n",
    "                    reciter = get_reciter(RECITERS, playlist.title)\n",
    "                else:\n",
    "                    sura = get_sura(title)\n",
    "                    df_new = logging_in(reciter, title, df)\n",
    "\n",
    "                    if sura is not None:\n",
    "                        if get_thresh(df_new, sura, reciter):\n",
    "                            print('Reslicing the playlist')\n",
    "                            break  # Break out of the inner loop to re-randomize the playlist\n",
    "                        else:\n",
    "                            try:\n",
    "                                download_youtube_audio(url, output_path)\n",
    "                                print(f\"Downloading {sura} for {reciter}\\n Title of the video is {title}\")\n",
    "                            except Exception as e:\n",
    "                                print(f\"Error processing video: {title} - {e}\")\n",
    "    \n",
    "    except:\n",
    "        print(\"Couldn't return playlist\")\n",
    "        return title, reciter, sura, df_new\n"
   ]
  },
  {
   "cell_type": "code",
   "execution_count": 12,
   "metadata": {},
   "outputs": [],
   "source": [
    "def split_audio(input_path, prefix, output_path, segment_length=1000, export_format=\"mp3\", bitrate=\"192k\"):\n",
    "    try:\n",
    "        audio = AudioSegment.from_file(input_path)\n",
    "\n",
    "        # Calculate the number of segments\n",
    "        num_segments = len(audio) // segment_length\n",
    "\n",
    "        # Split the audio into segments\n",
    "        for i in range(num_segments):\n",
    "            start_time = i * segment_length\n",
    "            end_time = (i + 1) * segment_length\n",
    "            segment = audio[start_time:end_time]\n",
    "\n",
    "            # Save each segment\n",
    "            output_filename = f\"{prefix}_segment_{i + 1}.{export_format}\"\n",
    "            segment.export(os.path.join(output_path, output_filename), format=export_format, bitrate=bitrate)\n",
    "    except:\n",
    "        print(f\"couldn't save {output_filename}\")\n"
   ]
  },
  {
   "cell_type": "code",
   "execution_count": 13,
   "metadata": {},
   "outputs": [
    {
     "data": {
      "text/plain": [
       "['احمد الشلبي',\n",
       " 'علاء عقل',\n",
       " 'اسماعيل القاضي',\n",
       " 'علاء ياسر',\n",
       " 'محمد حجازي',\n",
       " 'محمد نصر الدين',\n",
       " 'مختار الحاج',\n",
       " 'إرويانتو',\n",
       " 'زين ابو كوثر',\n",
       " 'Zain Abu Kautsar',\n",
       " 'حسين عبد الظاهر',\n",
       " 'طارق محمد',\n",
       " 'عبد الباسط',\n",
       " 'المنشاوي',\n",
       " 'عبد العزيز سحيم',\n",
       " 'المنشاوي']"
      ]
     },
     "execution_count": 13,
     "metadata": {},
     "output_type": "execute_result"
    }
   ],
   "source": [
    "RECITERS"
   ]
  },
  {
   "cell_type": "code",
   "execution_count": 14,
   "metadata": {},
   "outputs": [
    {
     "name": "stdout",
     "output_type": "stream",
     "text": [
      "creating directory for زين ابو كوثر\n"
     ]
    },
    {
     "name": "stdout",
     "output_type": "stream",
     "text": [
      "logging in Zain Abu Kautsar for None\n",
      "logging in Zain Abu Kautsar for سورة الليل\n"
     ]
    },
    {
     "name": "stderr",
     "output_type": "stream",
     "text": [
      "/tmp/ipykernel_1840413/1969732401.py:3: DeprecationWarning: Call to deprecated function all (This object can be treated as a list, all() is useless).\n",
      "  audio_stream = yt.streams.filter(only_audio=True).all()\n"
     ]
    },
    {
     "name": "stdout",
     "output_type": "stream",
     "text": [
      "Downloading سورة الليل for Zain Abu Kautsar\n",
      " Title of the video is Surah Al-Lail سورة الليل - Zain Abu Kautsar | New Recitation\n",
      "logging in Zain Abu Kautsar for سورة النازعات\n"
     ]
    },
    {
     "name": "stderr",
     "output_type": "stream",
     "text": [
      "/tmp/ipykernel_1840413/1969732401.py:3: DeprecationWarning: Call to deprecated function all (This object can be treated as a list, all() is useless).\n",
      "  audio_stream = yt.streams.filter(only_audio=True).all()\n"
     ]
    },
    {
     "name": "stdout",
     "output_type": "stream",
     "text": [
      "Downloading سورة النازعات for Zain Abu Kautsar\n",
      " Title of the video is Surah An-Nazi'at سورة النازعات - Zain Abu Kautsar | New Recitation\n",
      "logging in Zain Abu Kautsar for سورة الطارق\n"
     ]
    },
    {
     "name": "stderr",
     "output_type": "stream",
     "text": [
      "/tmp/ipykernel_1840413/1969732401.py:3: DeprecationWarning: Call to deprecated function all (This object can be treated as a list, all() is useless).\n",
      "  audio_stream = yt.streams.filter(only_audio=True).all()\n"
     ]
    },
    {
     "name": "stdout",
     "output_type": "stream",
     "text": [
      "Downloading سورة الطارق for Zain Abu Kautsar\n",
      " Title of the video is Surah At-Thariq سورة الطارق - Zain Abu Kautsar\n",
      "logging in Zain Abu Kautsar for سورة البلد\n"
     ]
    },
    {
     "name": "stderr",
     "output_type": "stream",
     "text": [
      "/tmp/ipykernel_1840413/1969732401.py:3: DeprecationWarning: Call to deprecated function all (This object can be treated as a list, all() is useless).\n",
      "  audio_stream = yt.streams.filter(only_audio=True).all()\n"
     ]
    },
    {
     "name": "stdout",
     "output_type": "stream",
     "text": [
      "Downloading سورة البلد for Zain Abu Kautsar\n",
      " Title of the video is Surah Al Balad سورة البلد - Zain Abu Kautsar  | New Recitation\n",
      "logging in Zain Abu Kautsar for سورة التين\n"
     ]
    },
    {
     "name": "stderr",
     "output_type": "stream",
     "text": [
      "/tmp/ipykernel_1840413/1969732401.py:3: DeprecationWarning: Call to deprecated function all (This object can be treated as a list, all() is useless).\n",
      "  audio_stream = yt.streams.filter(only_audio=True).all()\n"
     ]
    },
    {
     "name": "stdout",
     "output_type": "stream",
     "text": [
      "Downloading سورة التين for Zain Abu Kautsar\n",
      " Title of the video is Surah At-Tin سورة التين - Zain Abu Kautsar| New Recitation\n",
      "logging in Zain Abu Kautsar for سورة الفجر\n"
     ]
    },
    {
     "name": "stderr",
     "output_type": "stream",
     "text": [
      "/tmp/ipykernel_1840413/1969732401.py:3: DeprecationWarning: Call to deprecated function all (This object can be treated as a list, all() is useless).\n",
      "  audio_stream = yt.streams.filter(only_audio=True).all()\n"
     ]
    },
    {
     "name": "stdout",
     "output_type": "stream",
     "text": [
      "Downloading سورة الفجر for Zain Abu Kautsar\n",
      " Title of the video is Surah Al-Fajr سورة الفجر - Zain Abu Kautsar | New Recitation\n",
      "logging in Zain Abu Kautsar for سورة الدخان\n"
     ]
    },
    {
     "name": "stderr",
     "output_type": "stream",
     "text": [
      "/tmp/ipykernel_1840413/1969732401.py:3: DeprecationWarning: Call to deprecated function all (This object can be treated as a list, all() is useless).\n",
      "  audio_stream = yt.streams.filter(only_audio=True).all()\n"
     ]
    },
    {
     "name": "stdout",
     "output_type": "stream",
     "text": [
      "Downloading سورة الدخان for Zain Abu Kautsar\n",
      " Title of the video is Sourate Ad Dukhan | Zain Abu Kautsar | زين أبو كوثر سورة الدخان\n",
      "logging in Zain Abu Kautsar for None\n",
      "logging in Zain Abu Kautsar for سورة الدخان\n"
     ]
    },
    {
     "name": "stderr",
     "output_type": "stream",
     "text": [
      "/tmp/ipykernel_1840413/1969732401.py:3: DeprecationWarning: Call to deprecated function all (This object can be treated as a list, all() is useless).\n",
      "  audio_stream = yt.streams.filter(only_audio=True).all()\n"
     ]
    },
    {
     "name": "stdout",
     "output_type": "stream",
     "text": [
      "Downloading سورة الدخان for Zain Abu Kautsar\n",
      " Title of the video is Sourate Ad Dukhan | Zain Abu Kautsar | زين أبو كوثر سورة الدخان\n",
      "logging in Zain Abu Kautsar for سورة القدر\n"
     ]
    },
    {
     "name": "stderr",
     "output_type": "stream",
     "text": [
      "/tmp/ipykernel_1840413/1969732401.py:3: DeprecationWarning: Call to deprecated function all (This object can be treated as a list, all() is useless).\n",
      "  audio_stream = yt.streams.filter(only_audio=True).all()\n"
     ]
    },
    {
     "name": "stdout",
     "output_type": "stream",
     "text": [
      "Downloading سورة القدر for Zain Abu Kautsar\n",
      " Title of the video is Surah Al-Qadr سورة القدر - Zain Abu Kautsar | New recitation\n",
      "logging in Zain Abu Kautsar for سورة البروج\n"
     ]
    },
    {
     "name": "stderr",
     "output_type": "stream",
     "text": [
      "/tmp/ipykernel_1840413/1969732401.py:3: DeprecationWarning: Call to deprecated function all (This object can be treated as a list, all() is useless).\n",
      "  audio_stream = yt.streams.filter(only_audio=True).all()\n"
     ]
    },
    {
     "name": "stdout",
     "output_type": "stream",
     "text": [
      "Downloading سورة البروج for Zain Abu Kautsar\n",
      " Title of the video is Surah Al-Buruj سورة البروج - Zain Abu Kautsar\n",
      "logging in Zain Abu Kautsar for سورة البلد\n"
     ]
    },
    {
     "name": "stderr",
     "output_type": "stream",
     "text": [
      "/tmp/ipykernel_1840413/1969732401.py:3: DeprecationWarning: Call to deprecated function all (This object can be treated as a list, all() is useless).\n",
      "  audio_stream = yt.streams.filter(only_audio=True).all()\n"
     ]
    },
    {
     "name": "stdout",
     "output_type": "stream",
     "text": [
      "Downloading سورة البلد for Zain Abu Kautsar\n",
      " Title of the video is Surah Al Balad سورة البلد - Zain Abu Kautsar  | New Recitation\n",
      "logging in Zain Abu Kautsar for سورة التكوير\n"
     ]
    },
    {
     "name": "stderr",
     "output_type": "stream",
     "text": [
      "/tmp/ipykernel_1840413/1969732401.py:3: DeprecationWarning: Call to deprecated function all (This object can be treated as a list, all() is useless).\n",
      "  audio_stream = yt.streams.filter(only_audio=True).all()\n"
     ]
    },
    {
     "name": "stdout",
     "output_type": "stream",
     "text": [
      "Downloading سورة التكوير for Zain Abu Kautsar\n",
      " Title of the video is Surah At-Takwir سورة التكوير - Zain Abu Kautsar | New Recitation\n",
      "logging in Zain Abu Kautsar for سورة عبس\n"
     ]
    },
    {
     "name": "stderr",
     "output_type": "stream",
     "text": [
      "/tmp/ipykernel_1840413/1969732401.py:3: DeprecationWarning: Call to deprecated function all (This object can be treated as a list, all() is useless).\n",
      "  audio_stream = yt.streams.filter(only_audio=True).all()\n"
     ]
    },
    {
     "name": "stdout",
     "output_type": "stream",
     "text": [
      "Downloading سورة عبس for Zain Abu Kautsar\n",
      " Title of the video is Surah 'Abasa سورة عبس - Zain Abu Kautsar | New Recitation\n",
      "logging in Zain Abu Kautsar for None\n",
      "logging in Zain Abu Kautsar for سورة الفجر\n"
     ]
    },
    {
     "name": "stderr",
     "output_type": "stream",
     "text": [
      "/tmp/ipykernel_1840413/1969732401.py:3: DeprecationWarning: Call to deprecated function all (This object can be treated as a list, all() is useless).\n",
      "  audio_stream = yt.streams.filter(only_audio=True).all()\n"
     ]
    },
    {
     "name": "stdout",
     "output_type": "stream",
     "text": [
      "Downloading سورة الفجر for Zain Abu Kautsar\n",
      " Title of the video is Surah Al-Fajr سورة الفجر - Zain Abu Kautsar | New Recitation\n",
      "logging in Zain Abu Kautsar for سورة النازعات\n"
     ]
    },
    {
     "name": "stderr",
     "output_type": "stream",
     "text": [
      "/tmp/ipykernel_1840413/1969732401.py:3: DeprecationWarning: Call to deprecated function all (This object can be treated as a list, all() is useless).\n",
      "  audio_stream = yt.streams.filter(only_audio=True).all()\n"
     ]
    },
    {
     "name": "stdout",
     "output_type": "stream",
     "text": [
      "Downloading سورة النازعات for Zain Abu Kautsar\n",
      " Title of the video is Surah An-Nazi'at سورة النازعات - Zain Abu Kautsar | New Recitation\n",
      "logging in Zain Abu Kautsar for سورة البروج\n"
     ]
    },
    {
     "name": "stderr",
     "output_type": "stream",
     "text": [
      "/tmp/ipykernel_1840413/1969732401.py:3: DeprecationWarning: Call to deprecated function all (This object can be treated as a list, all() is useless).\n",
      "  audio_stream = yt.streams.filter(only_audio=True).all()\n"
     ]
    },
    {
     "name": "stdout",
     "output_type": "stream",
     "text": [
      "Downloading سورة البروج for Zain Abu Kautsar\n",
      " Title of the video is Surah Al-Buruj سورة البروج - Zain Abu Kautsar\n",
      "logging in Zain Abu Kautsar for None\n",
      "logging in Zain Abu Kautsar for سورة الأعلى\n"
     ]
    },
    {
     "name": "stderr",
     "output_type": "stream",
     "text": [
      "/tmp/ipykernel_1840413/1969732401.py:3: DeprecationWarning: Call to deprecated function all (This object can be treated as a list, all() is useless).\n",
      "  audio_stream = yt.streams.filter(only_audio=True).all()\n"
     ]
    },
    {
     "name": "stdout",
     "output_type": "stream",
     "text": [
      "Downloading سورة الأعلى for Zain Abu Kautsar\n",
      " Title of the video is Surah Al-A'la سورة الأعلى - Zain Abu Kautsar\n",
      "logging in Zain Abu Kautsar for سورة عبس\n"
     ]
    },
    {
     "name": "stderr",
     "output_type": "stream",
     "text": [
      "/tmp/ipykernel_1840413/1969732401.py:3: DeprecationWarning: Call to deprecated function all (This object can be treated as a list, all() is useless).\n",
      "  audio_stream = yt.streams.filter(only_audio=True).all()\n"
     ]
    },
    {
     "name": "stdout",
     "output_type": "stream",
     "text": [
      "Downloading سورة عبس for Zain Abu Kautsar\n",
      " Title of the video is Surah 'Abasa سورة عبس - Zain Abu Kautsar | New Recitation\n",
      "logging in Zain Abu Kautsar for سورة الطارق\n"
     ]
    },
    {
     "name": "stderr",
     "output_type": "stream",
     "text": [
      "/tmp/ipykernel_1840413/1969732401.py:3: DeprecationWarning: Call to deprecated function all (This object can be treated as a list, all() is useless).\n",
      "  audio_stream = yt.streams.filter(only_audio=True).all()\n"
     ]
    },
    {
     "name": "stdout",
     "output_type": "stream",
     "text": [
      "Downloading سورة الطارق for Zain Abu Kautsar\n",
      " Title of the video is Surah At-Thariq سورة الطارق - Zain Abu Kautsar\n",
      "logging in Zain Abu Kautsar for سورة البلد\n",
      "Error processing video: Surah Al Balad سورة البلد - Zain Abu Kautsar  | New Recitation - <urlopen error [Errno 104] Connection reset by peer>\n",
      "logging in Zain Abu Kautsar for سورة القدر\n"
     ]
    },
    {
     "name": "stderr",
     "output_type": "stream",
     "text": [
      "/tmp/ipykernel_1840413/1969732401.py:3: DeprecationWarning: Call to deprecated function all (This object can be treated as a list, all() is useless).\n",
      "  audio_stream = yt.streams.filter(only_audio=True).all()\n"
     ]
    },
    {
     "name": "stdout",
     "output_type": "stream",
     "text": [
      "Downloading سورة القدر for Zain Abu Kautsar\n",
      " Title of the video is Surah Al-Qadr سورة القدر - Zain Abu Kautsar | New recitation\n",
      "logging in Zain Abu Kautsar for None\n",
      "logging in Zain Abu Kautsar for سورة الطارق\n"
     ]
    },
    {
     "name": "stderr",
     "output_type": "stream",
     "text": [
      "/tmp/ipykernel_1840413/1969732401.py:3: DeprecationWarning: Call to deprecated function all (This object can be treated as a list, all() is useless).\n",
      "  audio_stream = yt.streams.filter(only_audio=True).all()\n"
     ]
    },
    {
     "name": "stdout",
     "output_type": "stream",
     "text": [
      "Downloading سورة الطارق for Zain Abu Kautsar\n",
      " Title of the video is Surah At-Thariq سورة الطارق - Zain Abu Kautsar\n",
      "logging in Zain Abu Kautsar for سورة التين\n"
     ]
    },
    {
     "name": "stderr",
     "output_type": "stream",
     "text": [
      "/tmp/ipykernel_1840413/1969732401.py:3: DeprecationWarning: Call to deprecated function all (This object can be treated as a list, all() is useless).\n",
      "  audio_stream = yt.streams.filter(only_audio=True).all()\n"
     ]
    },
    {
     "name": "stdout",
     "output_type": "stream",
     "text": [
      "Downloading سورة التين for Zain Abu Kautsar\n",
      " Title of the video is Surah At-Tin سورة التين - Zain Abu Kautsar| New Recitation\n",
      "logging in Zain Abu Kautsar for سورة النبإ\n"
     ]
    },
    {
     "name": "stderr",
     "output_type": "stream",
     "text": [
      "/tmp/ipykernel_1840413/1969732401.py:3: DeprecationWarning: Call to deprecated function all (This object can be treated as a list, all() is useless).\n",
      "  audio_stream = yt.streams.filter(only_audio=True).all()\n"
     ]
    },
    {
     "name": "stdout",
     "output_type": "stream",
     "text": [
      "Downloading سورة النبإ for Zain Abu Kautsar\n",
      " Title of the video is Surah An-Naba'  سورة النبإ - Zain Abu Kautsar | New Recitation\n",
      "logging in Zain Abu Kautsar for سورة البلد\n"
     ]
    },
    {
     "name": "stderr",
     "output_type": "stream",
     "text": [
      "/tmp/ipykernel_1840413/1969732401.py:3: DeprecationWarning: Call to deprecated function all (This object can be treated as a list, all() is useless).\n",
      "  audio_stream = yt.streams.filter(only_audio=True).all()\n"
     ]
    },
    {
     "name": "stdout",
     "output_type": "stream",
     "text": [
      "Downloading سورة البلد for Zain Abu Kautsar\n",
      " Title of the video is Surah Al Balad سورة البلد - Zain Abu Kautsar  | New Recitation\n",
      "logging in Zain Abu Kautsar for سورة الدخان\n"
     ]
    },
    {
     "name": "stderr",
     "output_type": "stream",
     "text": [
      "/tmp/ipykernel_1840413/1969732401.py:3: DeprecationWarning: Call to deprecated function all (This object can be treated as a list, all() is useless).\n",
      "  audio_stream = yt.streams.filter(only_audio=True).all()\n"
     ]
    },
    {
     "name": "stdout",
     "output_type": "stream",
     "text": [
      "Downloading سورة الدخان for Zain Abu Kautsar\n",
      " Title of the video is Sourate Ad Dukhan | Zain Abu Kautsar | زين أبو كوثر سورة الدخان\n",
      "logging in Zain Abu Kautsar for None\n",
      "logging in Zain Abu Kautsar for سورة القدر\n"
     ]
    },
    {
     "name": "stderr",
     "output_type": "stream",
     "text": [
      "/tmp/ipykernel_1840413/1969732401.py:3: DeprecationWarning: Call to deprecated function all (This object can be treated as a list, all() is useless).\n",
      "  audio_stream = yt.streams.filter(only_audio=True).all()\n"
     ]
    },
    {
     "name": "stdout",
     "output_type": "stream",
     "text": [
      "Downloading سورة القدر for Zain Abu Kautsar\n",
      " Title of the video is Surah Al-Qadr سورة القدر - Zain Abu Kautsar | New recitation\n",
      "logging in Zain Abu Kautsar for سورة الإنشقاق\n"
     ]
    },
    {
     "name": "stderr",
     "output_type": "stream",
     "text": [
      "/tmp/ipykernel_1840413/1969732401.py:3: DeprecationWarning: Call to deprecated function all (This object can be treated as a list, all() is useless).\n",
      "  audio_stream = yt.streams.filter(only_audio=True).all()\n"
     ]
    },
    {
     "name": "stdout",
     "output_type": "stream",
     "text": [
      "Downloading سورة الإنشقاق for Zain Abu Kautsar\n",
      " Title of the video is Surah Al-Insyiqaq سورة الإنشقاق - Zain Abu Kautsar\n",
      "logging in Zain Abu Kautsar for سورة الليل\n"
     ]
    },
    {
     "name": "stderr",
     "output_type": "stream",
     "text": [
      "/tmp/ipykernel_1840413/1969732401.py:3: DeprecationWarning: Call to deprecated function all (This object can be treated as a list, all() is useless).\n",
      "  audio_stream = yt.streams.filter(only_audio=True).all()\n"
     ]
    },
    {
     "name": "stdout",
     "output_type": "stream",
     "text": [
      "Downloading سورة الليل for Zain Abu Kautsar\n",
      " Title of the video is Surah Al-Lail سورة الليل - Zain Abu Kautsar | New Recitation\n",
      "logging in Zain Abu Kautsar for سورة النازعات\n"
     ]
    },
    {
     "name": "stderr",
     "output_type": "stream",
     "text": [
      "/tmp/ipykernel_1840413/1969732401.py:3: DeprecationWarning: Call to deprecated function all (This object can be treated as a list, all() is useless).\n",
      "  audio_stream = yt.streams.filter(only_audio=True).all()\n"
     ]
    },
    {
     "name": "stdout",
     "output_type": "stream",
     "text": [
      "Downloading سورة النازعات for Zain Abu Kautsar\n",
      " Title of the video is Surah An-Nazi'at سورة النازعات - Zain Abu Kautsar | New Recitation\n",
      "logging in Zain Abu Kautsar for None\n",
      "logging in Zain Abu Kautsar for سورة القدر\n"
     ]
    },
    {
     "name": "stderr",
     "output_type": "stream",
     "text": [
      "/tmp/ipykernel_1840413/1969732401.py:3: DeprecationWarning: Call to deprecated function all (This object can be treated as a list, all() is useless).\n",
      "  audio_stream = yt.streams.filter(only_audio=True).all()\n"
     ]
    },
    {
     "name": "stdout",
     "output_type": "stream",
     "text": [
      "Downloading سورة القدر for Zain Abu Kautsar\n",
      " Title of the video is Surah Al-Qadr سورة القدر - Zain Abu Kautsar | New recitation\n",
      "logging in Zain Abu Kautsar for سورة البروج\n"
     ]
    },
    {
     "name": "stderr",
     "output_type": "stream",
     "text": [
      "/tmp/ipykernel_1840413/1969732401.py:3: DeprecationWarning: Call to deprecated function all (This object can be treated as a list, all() is useless).\n",
      "  audio_stream = yt.streams.filter(only_audio=True).all()\n"
     ]
    },
    {
     "name": "stdout",
     "output_type": "stream",
     "text": [
      "Downloading سورة البروج for Zain Abu Kautsar\n",
      " Title of the video is Surah Al-Buruj سورة البروج - Zain Abu Kautsar\n",
      "logging in Zain Abu Kautsar for سورة الدخان\n"
     ]
    },
    {
     "name": "stderr",
     "output_type": "stream",
     "text": [
      "/tmp/ipykernel_1840413/1969732401.py:3: DeprecationWarning: Call to deprecated function all (This object can be treated as a list, all() is useless).\n",
      "  audio_stream = yt.streams.filter(only_audio=True).all()\n"
     ]
    },
    {
     "name": "stdout",
     "output_type": "stream",
     "text": [
      "Downloading سورة الدخان for Zain Abu Kautsar\n",
      " Title of the video is Sourate Ad Dukhan | Zain Abu Kautsar | زين أبو كوثر سورة الدخان\n",
      "logging in Zain Abu Kautsar for None\n",
      "logging in Zain Abu Kautsar for سورة البلد\n"
     ]
    },
    {
     "name": "stderr",
     "output_type": "stream",
     "text": [
      "/tmp/ipykernel_1840413/1969732401.py:3: DeprecationWarning: Call to deprecated function all (This object can be treated as a list, all() is useless).\n",
      "  audio_stream = yt.streams.filter(only_audio=True).all()\n"
     ]
    },
    {
     "name": "stdout",
     "output_type": "stream",
     "text": [
      "Downloading سورة البلد for Zain Abu Kautsar\n",
      " Title of the video is Surah Al Balad سورة البلد - Zain Abu Kautsar  | New Recitation\n",
      "logging in Zain Abu Kautsar for سورة التكوير\n"
     ]
    },
    {
     "name": "stderr",
     "output_type": "stream",
     "text": [
      "/tmp/ipykernel_1840413/1969732401.py:3: DeprecationWarning: Call to deprecated function all (This object can be treated as a list, all() is useless).\n",
      "  audio_stream = yt.streams.filter(only_audio=True).all()\n"
     ]
    },
    {
     "name": "stdout",
     "output_type": "stream",
     "text": [
      "Downloading سورة التكوير for Zain Abu Kautsar\n",
      " Title of the video is Surah At-Takwir سورة التكوير - Zain Abu Kautsar | New Recitation\n",
      "logging in Zain Abu Kautsar for سورة الإنشقاق\n"
     ]
    },
    {
     "name": "stderr",
     "output_type": "stream",
     "text": [
      "/tmp/ipykernel_1840413/1969732401.py:3: DeprecationWarning: Call to deprecated function all (This object can be treated as a list, all() is useless).\n",
      "  audio_stream = yt.streams.filter(only_audio=True).all()\n"
     ]
    },
    {
     "name": "stdout",
     "output_type": "stream",
     "text": [
      "Downloading سورة الإنشقاق for Zain Abu Kautsar\n",
      " Title of the video is Surah Al-Insyiqaq سورة الإنشقاق - Zain Abu Kautsar\n",
      "logging in Zain Abu Kautsar for None\n",
      "logging in Zain Abu Kautsar for سورة الليل\n"
     ]
    },
    {
     "name": "stderr",
     "output_type": "stream",
     "text": [
      "/tmp/ipykernel_1840413/1969732401.py:3: DeprecationWarning: Call to deprecated function all (This object can be treated as a list, all() is useless).\n",
      "  audio_stream = yt.streams.filter(only_audio=True).all()\n"
     ]
    },
    {
     "name": "stdout",
     "output_type": "stream",
     "text": [
      "Downloading سورة الليل for Zain Abu Kautsar\n",
      " Title of the video is Surah Al-Lail سورة الليل - Zain Abu Kautsar | New Recitation\n",
      "logging in Zain Abu Kautsar for سورة التكوير\n"
     ]
    },
    {
     "name": "stderr",
     "output_type": "stream",
     "text": [
      "/tmp/ipykernel_1840413/1969732401.py:3: DeprecationWarning: Call to deprecated function all (This object can be treated as a list, all() is useless).\n",
      "  audio_stream = yt.streams.filter(only_audio=True).all()\n"
     ]
    },
    {
     "name": "stdout",
     "output_type": "stream",
     "text": [
      "Downloading سورة التكوير for Zain Abu Kautsar\n",
      " Title of the video is Surah At-Takwir سورة التكوير - Zain Abu Kautsar | New Recitation\n",
      "logging in Zain Abu Kautsar for سورة القدر\n"
     ]
    },
    {
     "name": "stderr",
     "output_type": "stream",
     "text": [
      "/tmp/ipykernel_1840413/1969732401.py:3: DeprecationWarning: Call to deprecated function all (This object can be treated as a list, all() is useless).\n",
      "  audio_stream = yt.streams.filter(only_audio=True).all()\n"
     ]
    },
    {
     "name": "stdout",
     "output_type": "stream",
     "text": [
      "Downloading سورة القدر for Zain Abu Kautsar\n",
      " Title of the video is Surah Al-Qadr سورة القدر - Zain Abu Kautsar | New recitation\n",
      "logging in Zain Abu Kautsar for سورة الفجر\n"
     ]
    },
    {
     "name": "stderr",
     "output_type": "stream",
     "text": [
      "/tmp/ipykernel_1840413/1969732401.py:3: DeprecationWarning: Call to deprecated function all (This object can be treated as a list, all() is useless).\n",
      "  audio_stream = yt.streams.filter(only_audio=True).all()\n"
     ]
    },
    {
     "name": "stdout",
     "output_type": "stream",
     "text": [
      "Downloading سورة الفجر for Zain Abu Kautsar\n",
      " Title of the video is Surah Al-Fajr سورة الفجر - Zain Abu Kautsar | New Recitation\n",
      "logging in Zain Abu Kautsar for سورة البلد\n"
     ]
    },
    {
     "name": "stderr",
     "output_type": "stream",
     "text": [
      "/tmp/ipykernel_1840413/1969732401.py:3: DeprecationWarning: Call to deprecated function all (This object can be treated as a list, all() is useless).\n",
      "  audio_stream = yt.streams.filter(only_audio=True).all()\n"
     ]
    },
    {
     "name": "stdout",
     "output_type": "stream",
     "text": [
      "Downloading سورة البلد for Zain Abu Kautsar\n",
      " Title of the video is Surah Al Balad سورة البلد - Zain Abu Kautsar  | New Recitation\n",
      "logging in Zain Abu Kautsar for None\n",
      "logging in Zain Abu Kautsar for None\n",
      "logging in Zain Abu Kautsar for سورة التين\n"
     ]
    },
    {
     "name": "stderr",
     "output_type": "stream",
     "text": [
      "/tmp/ipykernel_1840413/1969732401.py:3: DeprecationWarning: Call to deprecated function all (This object can be treated as a list, all() is useless).\n",
      "  audio_stream = yt.streams.filter(only_audio=True).all()\n"
     ]
    },
    {
     "name": "stdout",
     "output_type": "stream",
     "text": [
      "Downloading سورة التين for Zain Abu Kautsar\n",
      " Title of the video is Surah At-Tin سورة التين - Zain Abu Kautsar| New Recitation\n",
      "Couldn't return playlist\n"
     ]
    },
    {
     "name": "stderr",
     "output_type": "stream",
     "text": [
      "14it [05:18, 22.73s/it]\n"
     ]
    },
    {
     "name": "stdout",
     "output_type": "stream",
     "text": [
      "Deleted: data/زين ابو كوثر/Sourate Ad Dukhan  Zain Abu Kautsar  زين أبو كوثر سورة الدخان.mp4\n",
      "Deleted: data/زين ابو كوثر/Surah Abasa سورة عبس - Zain Abu Kautsar  New Recitation.mp4\n",
      "Deleted: data/زين ابو كوثر/Surah Al Balad سورة البلد - Zain Abu Kautsar   New Recitation.mp4\n",
      "Deleted: data/زين ابو كوثر/Surah Al-Ala سورة الأعلى - Zain Abu Kautsar.mp4\n",
      "Deleted: data/زين ابو كوثر/Surah Al-Buruj سورة البروج - Zain Abu Kautsar.mp4\n",
      "Deleted: data/زين ابو كوثر/Surah Al-Fajr سورة الفجر - Zain Abu Kautsar  New Recitation.mp4\n",
      "Deleted: data/زين ابو كوثر/Surah Al-Insyiqaq سورة الإنشقاق - Zain Abu Kautsar.mp4\n",
      "Deleted: data/زين ابو كوثر/Surah Al-Lail سورة الليل - Zain Abu Kautsar  New Recitation.mp4\n",
      "Deleted: data/زين ابو كوثر/Surah Al-Qadr سورة القدر - Zain Abu Kautsar  New recitation.mp4\n",
      "Deleted: data/زين ابو كوثر/Surah An-Naba  سورة النبإ - Zain Abu Kautsar  New Recitation.mp4\n",
      "Deleted: data/زين ابو كوثر/Surah An-Naziat سورة النازعات - Zain Abu Kautsar  New Recitation.mp4\n",
      "Deleted: data/زين ابو كوثر/Surah At-Takwir سورة التكوير - Zain Abu Kautsar  New Recitation.mp4\n",
      "Deleted: data/زين ابو كوثر/Surah At-Thariq سورة الطارق - Zain Abu Kautsar.mp4\n",
      "Deleted: data/زين ابو كوثر/Surah At-Tin سورة التين - Zain Abu Kautsar New Recitation.mp4\n",
      "Restarting\n",
      "logging in Zain Abu Kautsar for None\n",
      "logging in Zain Abu Kautsar for None\n",
      "logging in Zain Abu Kautsar for None\n",
      "logging in Zain Abu Kautsar for None\n",
      "Couldn't return playlist\n"
     ]
    },
    {
     "name": "stderr",
     "output_type": "stream",
     "text": [
      "0it [00:00, ?it/s]"
     ]
    },
    {
     "name": "stdout",
     "output_type": "stream",
     "text": [
      "Restarting\n"
     ]
    },
    {
     "name": "stderr",
     "output_type": "stream",
     "text": [
      "\n"
     ]
    },
    {
     "name": "stdout",
     "output_type": "stream",
     "text": [
      "logging in زين ابو كوثر for None\n",
      "logging in زين ابو كوثر for None\n",
      "logging in زين ابو كوثر for None\n",
      "logging in زين ابو كوثر for None\n",
      "logging in زين ابو كوثر for None\n",
      "logging in زين ابو كوثر for None\n",
      "Couldn't return playlist\n"
     ]
    },
    {
     "name": "stderr",
     "output_type": "stream",
     "text": [
      "0it [00:00, ?it/s]"
     ]
    },
    {
     "name": "stdout",
     "output_type": "stream",
     "text": [
      "Restarting\n"
     ]
    },
    {
     "name": "stderr",
     "output_type": "stream",
     "text": [
      "\n"
     ]
    }
   ],
   "source": [
    "# List of YouTube video URLs\n",
    "video_urls = {\n",
    "    # 'احمد الشلبي':[\"https://www.youtube.com/playlist?list=PLSE-KCHIEexiq2fLNI_wXvy7GE2ZsscnA\",\n",
    "    #                 \"https://www.youtube.com/playlist?list=PLSI-M74-EX5fYID8_WsTWa9reh7vfnogi\",\n",
    "    #                 \"https://www.youtube.com/playlist?list=PLymw_19SrMidvYi90juk3V33OqyJHYByj\",\n",
    "    #                 \"https://www.youtube.com/playlist?list=PLKjpxvaXlINGQvbnjZn1lMkRWBq0GMhA-\"],\n",
    "\n",
    "    # 'علاء عقل':[\"https://www.youtube.com/playlist?list=PLkFm8Qv5Xhk7ayASXyeWJpnwsnP6sQMaO\",\n",
    "    #             \"https://www.youtube.com/playlist?list=PLnQ6oMsNoobhr1UuGzQAK7KOxmSWGLu0l\",\n",
    "    #             \"https://www.youtube.com/playlist?list=PLSI-M74-EX5ceyQHpDcpciTBuOcMq2DRH\",\n",
    "    #             \"https://www.youtube.com/playlist?list=PLs6BqX7AeetBLzlOWLIrYuk5MzGSaHBmQ\"],\n",
    "\n",
    "    # 'اسماعيل القاضي':[\"https://www.youtube.com/playlist?list=PLT2DqdbNqk6sprS-AxI-AwhoqH2aY37hH\",\n",
    "    #                   \"https://www.youtube.com/playlist?list=PLT2DqdbNqk6tXDOaTkW6i1IemJ_6WhDJJ\",\n",
    "    #                   \"https://www.youtube.com/playlist?list=PLT2DqdbNqk6tHX8uZRAPll5CSMCWU7YGa\"], #-> add more \n",
    "                      \n",
    "    # 'علاء ياسر':[\"https://www.youtube.com/playlist?list=PLymw_19SrMic6PCzakS6Sj31HxdL6z-Fr\",\n",
    "    #              \"https://www.youtube.com/playlist?list=PLnQ6oMsNoobiDt_YwDOauNphVyS86H5tC\",\n",
    "    #              \"https://www.youtube.com/playlist?list=PLSI-M74-EX5fpJcJJArGXhBtARr-w05a5\",\n",
    "    #              \"https://www.youtube.com/playlist?list=PLKjpxvaXlINF-1WaHRvbVm2665qKrAwIX\"],\n",
    "\n",
    "    # 'مختار الحاج':[\"https://www.youtube.com/playlist?list=PLnQ6oMsNoobhVkeaQsHr5T2l0tqxub5-C\",\n",
    "    #                \"https://www.youtube.com/playlist?list=PLymw_19SrMifJH4O8B7vUl01El0dFWcDx\",\n",
    "    #                \"https://www.youtube.com/playlist?list=PLUScscfmuunlW7U2K_ceSJXhhiAc-bL_R\"],\n",
    "                   \n",
    "    'زين ابو كوثر':[\"https://www.youtube.com/playlist?list=PLV0CS4cp77rk2J32N9bOD5IRgYGntUrL6\",\n",
    "                    \"https://www.youtube.com/playlist?list=PLWUE7RQCHIjI9Jb9SpxsnMAUAFXJzCf7a\",\n",
    "                    \"https://www.youtube.com/playlist?list=PLM7w6q4q6WlPUVU_epVL5w-CWKXLM5CKt\"]\n",
    "\n",
    "}\n",
    "\n",
    "for name , playlists in video_urls.items():\n",
    "    os.makedirs(f\"data/{name}\", exist_ok=True)\n",
    "    print(f'creating directory for {name}')\n",
    "    for playlist in playlists:\n",
    "             \n",
    "        relative_output_dir_path = os.path.relpath(f\"data/{name}\")\n",
    "\n",
    "        title,reciter,sura,_ = download_audio_from_playlist(playlist, relative_output_dir_path, df)\n",
    "\n",
    "        videos_for_conv_paths = glob(os.path.join(relative_output_dir_path,\"*.mp4\"))\n",
    "        for i,video in tqdm(enumerate(videos_for_conv_paths)):\n",
    "\n",
    "            prefix = f\"{title[:-1]}_{reciter}_{sura}_{i + 1}\"\n",
    "\n",
    "            split_audio(video,prefix, relative_output_dir_path)\n",
    "            \n",
    "        for file in videos_for_conv_paths:\n",
    "            # if filename.endswith(\".mp4\"):\n",
    "            #     file_path = os.path.join(relative_output_dir_path, filename)\n",
    "                os.remove(file)\n",
    "                print(f\"Deleted: {file}\")\n",
    "        print(\"Restarting\")\n",
    "        "
   ]
  },
  {
   "cell_type": "code",
   "execution_count": 15,
   "metadata": {},
   "outputs": [
    {
     "data": {
      "text/html": [
       "<div>\n",
       "<style scoped>\n",
       "    .dataframe tbody tr th:only-of-type {\n",
       "        vertical-align: middle;\n",
       "    }\n",
       "\n",
       "    .dataframe tbody tr th {\n",
       "        vertical-align: top;\n",
       "    }\n",
       "\n",
       "    .dataframe thead th {\n",
       "        text-align: right;\n",
       "    }\n",
       "</style>\n",
       "<table border=\"1\" class=\"dataframe\">\n",
       "  <thead>\n",
       "    <tr style=\"text-align: right;\">\n",
       "      <th></th>\n",
       "      <th>reciter</th>\n",
       "      <th>sura</th>\n",
       "    </tr>\n",
       "  </thead>\n",
       "  <tbody>\n",
       "    <tr>\n",
       "      <th>0</th>\n",
       "      <td>Zain Abu Kautsar</td>\n",
       "      <td>None</td>\n",
       "    </tr>\n",
       "    <tr>\n",
       "      <th>1</th>\n",
       "      <td>Zain Abu Kautsar</td>\n",
       "      <td>سورة الليل</td>\n",
       "    </tr>\n",
       "    <tr>\n",
       "      <th>2</th>\n",
       "      <td>Zain Abu Kautsar</td>\n",
       "      <td>سورة النازعات</td>\n",
       "    </tr>\n",
       "    <tr>\n",
       "      <th>3</th>\n",
       "      <td>Zain Abu Kautsar</td>\n",
       "      <td>سورة الطارق</td>\n",
       "    </tr>\n",
       "    <tr>\n",
       "      <th>4</th>\n",
       "      <td>Zain Abu Kautsar</td>\n",
       "      <td>سورة البلد</td>\n",
       "    </tr>\n",
       "    <tr>\n",
       "      <th>...</th>\n",
       "      <td>...</td>\n",
       "      <td>...</td>\n",
       "    </tr>\n",
       "    <tr>\n",
       "      <th>58</th>\n",
       "      <td>زين ابو كوثر</td>\n",
       "      <td>None</td>\n",
       "    </tr>\n",
       "    <tr>\n",
       "      <th>59</th>\n",
       "      <td>زين ابو كوثر</td>\n",
       "      <td>None</td>\n",
       "    </tr>\n",
       "    <tr>\n",
       "      <th>60</th>\n",
       "      <td>زين ابو كوثر</td>\n",
       "      <td>None</td>\n",
       "    </tr>\n",
       "    <tr>\n",
       "      <th>61</th>\n",
       "      <td>زين ابو كوثر</td>\n",
       "      <td>None</td>\n",
       "    </tr>\n",
       "    <tr>\n",
       "      <th>62</th>\n",
       "      <td>زين ابو كوثر</td>\n",
       "      <td>None</td>\n",
       "    </tr>\n",
       "  </tbody>\n",
       "</table>\n",
       "<p>63 rows × 2 columns</p>\n",
       "</div>"
      ],
      "text/plain": [
       "             reciter           sura\n",
       "0   Zain Abu Kautsar           None\n",
       "1   Zain Abu Kautsar     سورة الليل\n",
       "2   Zain Abu Kautsar  سورة النازعات\n",
       "3   Zain Abu Kautsar    سورة الطارق\n",
       "4   Zain Abu Kautsar     سورة البلد\n",
       "..               ...            ...\n",
       "58      زين ابو كوثر           None\n",
       "59      زين ابو كوثر           None\n",
       "60      زين ابو كوثر           None\n",
       "61      زين ابو كوثر           None\n",
       "62      زين ابو كوثر           None\n",
       "\n",
       "[63 rows x 2 columns]"
      ]
     },
     "execution_count": 15,
     "metadata": {},
     "output_type": "execute_result"
    }
   ],
   "source": [
    "df"
   ]
  },
  {
   "cell_type": "code",
   "execution_count": null,
   "metadata": {},
   "outputs": [],
   "source": []
  }
 ],
 "metadata": {
  "kernelspec": {
   "display_name": "tf",
   "language": "python",
   "name": "python3"
  },
  "language_info": {
   "codemirror_mode": {
    "name": "ipython",
    "version": 3
   },
   "file_extension": ".py",
   "mimetype": "text/x-python",
   "name": "python",
   "nbconvert_exporter": "python",
   "pygments_lexer": "ipython3",
   "version": "3.9.18"
  }
 },
 "nbformat": 4,
 "nbformat_minor": 2
}

{
 "cells": [
  {
   "cell_type": "code",
   "execution_count": 2,
   "metadata": {},
   "outputs": [],
   "source": [
    "import pandas as pd\n",
    "import os\n",
    "# from pytube import YouTube"
   ]
  },
  {
   "cell_type": "code",
   "execution_count": null,
   "metadata": {},
   "outputs": [],
   "source": [
    "df = pd.read_excel('quran.xlsx')"
   ]
  },
  {
   "cell_type": "code",
   "execution_count": null,
   "metadata": {},
   "outputs": [],
   "source": [
    "df.head()"
   ]
  },
  {
   "cell_type": "code",
   "execution_count": null,
   "metadata": {},
   "outputs": [],
   "source": [
    "df"
   ]
  },
  {
   "cell_type": "code",
   "execution_count": null,
   "metadata": {},
   "outputs": [],
   "source": [
    "df['عنوان الفيديو'] = df['عنوان الفيديو'].astype(str)"
   ]
  },
  {
   "cell_type": "code",
   "execution_count": null,
   "metadata": {},
   "outputs": [],
   "source": [
    "def download_youtube_video_by_id(video_id, output_path='downloads'):\n",
    "    # Create output directory if it doesn't exist\n",
    "    os.makedirs(output_path, exist_ok=True)\n",
    "\n",
    "    # Construct the YouTube video URL with the video ID\n",
    "    video_url = f'https://www.youtube.com/watch?v={video_id}'\n",
    "\n",
    "    # Download the video as an MP3\n",
    "    video = YouTube(video_url)\n",
    "    print(f'Downloading: {video.title}')\n",
    "    video.streams.filter(only_audio=True).first().download(output_path)\n",
    "\n",
    "    # Rename the downloaded file to have an MP3 extension\n",
    "    original_file_path = os.path.join(output_path, video.title + '.webm')\n",
    "    mp3_file_path = os.path.join(output_path, video.title + '.mp3')\n",
    "    os.rename(original_file_path, mp3_file_path)\n",
    "\n",
    "    print(f'Download complete: {mp3_file_path}')\n",
    "\n",
    "# # Example usage\n",
    "# video_title_to_search = \"Your YouTube Video Title\"\n",
    "# download_youtube_video(video_title_to_search)\n"
   ]
  },
  {
   "cell_type": "code",
   "execution_count": null,
   "metadata": {},
   "outputs": [],
   "source": [
    "for idx, row in df.iterrows():\n",
    "    try:\n",
    "        video_title = row['المحتوى']\n",
    "        download_youtube_video_by_id(video_title)\n",
    "    except:\n",
    "        print('skip')"
   ]
  },
  {
   "cell_type": "code",
   "execution_count": null,
   "metadata": {},
   "outputs": [],
   "source": [
    "!pip install pydub"
   ]
  },
  {
   "cell_type": "code",
   "execution_count": 3,
   "metadata": {},
   "outputs": [
    {
     "ename": "",
     "evalue": "",
     "output_type": "error",
     "traceback": [
      "\u001b[1;31mThe Kernel crashed while executing code in the the current cell or a previous cell. Please review the code in the cell(s) to identify a possible cause of the failure. Click <a href='https://aka.ms/vscodeJupyterKernelCrash'>here</a> for more info. View Jupyter <a href='command:jupyter.viewOutput'>log</a> for further details."
     ]
    }
   ],
   "source": [
    "from pydub import AudioSegment\n",
    "import math\n",
    "\n",
    "def split_audio(input_folder, output_folder, duration):\n",
    "    os.makedirs(output_folder, exist_ok=True)\n",
    "\n",
    "    for file in os.listdir(input_folder):\n",
    "        if file.endswith('.mp3'):\n",
    "            try:\n",
    "                audio = AudioSegment.from_file(os.path.join(input_folder, file))\n",
    "            except Exception as e:\n",
    "                print(f\"Error loading file {file}: {e}\")\n",
    "                continue\n",
    "\n",
    "            total_length = len(audio)\n",
    "            num_parts = math.ceil(total_length / (duration * 1000))\n",
    "\n",
    "            for i in range(num_parts):\n",
    "                start_time = i * duration * 1000\n",
    "                end_time = min((i + 1) * duration * 1000, total_length)\n",
    "                segment = audio[start_time:end_time]\n",
    "\n",
    "                output_filename = f\"{os.path.splitext(file)[0]}_segment_{i + 1}.mp3\"\n",
    "                output_path = os.path.join(output_folder, output_filename)\n",
    "                segment.export(output_path, format=\"mp3\")\n",
    "\n",
    "\n",
    "name = \"abd el baset abd el samad\"\n",
    "input_folder = f\"/mnt/c/FOLDERSSSSSSSSSSSSSSSSSS/Projects/QuranReaderClf/downloads/{name}\"\n",
    "output_folder = f\"/mnt/c/FOLDERSSSSSSSSSSSSSSSSSS/Projects/QuranReaderClf/downloads/ll\"\n",
    "segment_duration = 3 * 60 * 1000  # 3 minutes in milliseconds\n",
    "\n",
    "split_audio(input_folder, output_folder, segment_duration)\n"
   ]
  },
  {
   "cell_type": "code",
   "execution_count": 3,
   "metadata": {},
   "outputs": [],
   "source": [
    "df = pd.read_csv('train.csv')"
   ]
  },
  {
   "cell_type": "code",
   "execution_count": 5,
   "metadata": {},
   "outputs": [
    {
     "data": {
      "text/plain": [
       "0    784\n",
       "3    529\n",
       "2    234\n",
       "1    222\n",
       "Name: class_id, dtype: int64"
      ]
     },
     "execution_count": 5,
     "metadata": {},
     "output_type": "execute_result"
    }
   ],
   "source": [
    "df.class_id.value_counts()"
   ]
  },
  {
   "cell_type": "code",
   "execution_count": null,
   "metadata": {},
   "outputs": [],
   "source": []
  }
 ],
 "metadata": {
  "kernelspec": {
   "display_name": "linx",
   "language": "python",
   "name": "python3"
  },
  "language_info": {
   "codemirror_mode": {
    "name": "ipython",
    "version": 3
   },
   "file_extension": ".py",
   "mimetype": "text/x-python",
   "name": "python",
   "nbconvert_exporter": "python",
   "pygments_lexer": "ipython3",
   "version": "3.7.16"
  }
 },
 "nbformat": 4,
 "nbformat_minor": 2
}

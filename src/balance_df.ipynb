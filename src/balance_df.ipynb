{
 "cells": [
  {
   "cell_type": "code",
   "execution_count": 5,
   "metadata": {},
   "outputs": [],
   "source": [
    "import pandas as pd\n",
    "import numpy as np"
   ]
  },
  {
   "cell_type": "code",
   "execution_count": 17,
   "metadata": {},
   "outputs": [],
   "source": [
    "def balance(df,is_train):\n",
    "    class_counts = df['class_id'].value_counts()\n",
    "\n",
    "    # Step 2: Find the minimum count among all classes\n",
    "    min_count = class_counts.min()\n",
    "\n",
    "    # Step 3: For each class, randomly select a subset of examples to match the minimum count\n",
    "    balanced_data = pd.DataFrame()\n",
    "\n",
    "    for class_id, count in class_counts.items():\n",
    "        subset = df[df['class_id'] == class_id].sample(min_count, replace=True)\n",
    "        balanced_data = pd.concat([balanced_data, subset])\n",
    "\n",
    "    if is_train is True:\n",
    "        balanced_data.to_csv('train.csv')\n",
    "    else:\n",
    "        balanced_data.to_csv('test.csv')\n",
    "    return df"
   ]
  },
  {
   "cell_type": "code",
   "execution_count": 25,
   "metadata": {},
   "outputs": [],
   "source": [
    "df = pd.read_csv('test.csv')"
   ]
  },
  {
   "cell_type": "code",
   "execution_count": 21,
   "metadata": {},
   "outputs": [],
   "source": [
    "df =balance(df,True)"
   ]
  },
  {
   "cell_type": "code",
   "execution_count": 26,
   "metadata": {},
   "outputs": [
    {
     "data": {
      "text/plain": [
       "class_id\n",
       "0    222\n",
       "3    222\n",
       "2    222\n",
       "1    222\n",
       "Name: count, dtype: int64"
      ]
     },
     "execution_count": 26,
     "metadata": {},
     "output_type": "execute_result"
    }
   ],
   "source": [
    "df.class_id.value_counts()"
   ]
  },
  {
   "cell_type": "code",
   "execution_count": null,
   "metadata": {},
   "outputs": [],
   "source": []
  }
 ],
 "metadata": {
  "kernelspec": {
   "display_name": "clf",
   "language": "python",
   "name": "python3"
  },
  "language_info": {
   "codemirror_mode": {
    "name": "ipython",
    "version": 3
   },
   "file_extension": ".py",
   "mimetype": "text/x-python",
   "name": "python",
   "nbconvert_exporter": "python",
   "pygments_lexer": "ipython3",
   "version": "3.9.18"
  }
 },
 "nbformat": 4,
 "nbformat_minor": 2
}

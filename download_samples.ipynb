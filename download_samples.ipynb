{
 "cells": [
  {
   "cell_type": "code",
   "execution_count": 1,
   "metadata": {},
   "outputs": [
    {
     "name": "stderr",
     "output_type": "stream",
     "text": [
      "/tmp/ipykernel_2623389/3903066010.py:18: DeprecationWarning: \n",
      "Pyarrow will become a required dependency of pandas in the next major release of pandas (pandas 3.0),\n",
      "(to allow more performant data types, such as the Arrow string type, and better interoperability with other libraries)\n",
      "but was not found to be installed on your system.\n",
      "If this would cause problems for you,\n",
      "please provide us feedback at https://github.com/pandas-dev/pandas/issues/54466\n",
      "        \n",
      "  import pandas as pd\n"
     ]
    }
   ],
   "source": [
    "from pytube import YouTube\n",
    "from pytube import Playlist\n",
    "import os\n",
    "import subprocess\n",
    "import re\n",
    "from vals import (\n",
    "                  RECITERS,\n",
    "                  rprint,\n",
    "                  gprint,\n",
    "                  colored_tqdm,\n",
    "                  download_youtube_audio,\n",
    "                  split_audio)\n",
    "from glob import glob\n",
    "from tqdm import tqdm\n",
    "import pandas as pd\n",
    "import random"
   ]
  },
  {
   "cell_type": "code",
   "execution_count": 2,
   "metadata": {},
   "outputs": [],
   "source": [
    "df = pd.DataFrame(columns = ['reciter','sura'])"
   ]
  },
  {
   "cell_type": "code",
   "execution_count": 3,
   "metadata": {},
   "outputs": [],
   "source": [
    "def get_thresh(df,reciter,sura):\n",
    "    # Filter DataFrame based on the conditions\n",
    "    filtered_df = df[df['reciter'] == reciter]\n",
    "    if len(filtered_df[filtered_df['sura'] == sura]) > 4:\n",
    "         return True"
   ]
  },
  {
   "cell_type": "code",
   "execution_count": 4,
   "metadata": {},
   "outputs": [],
   "source": [
    "def get_reciter(RECITERS, string):\n",
    "    matches = [substring for substring in RECITERS if substring.lower() in string.lower()]\n",
    "    \n",
    "    if not matches:\n",
    "        # No match found\n",
    "        return None  # or raise an exception, return a default value, etc.\n",
    "    \n",
    "    return matches[0]\n",
    "\n",
    "def get_sura(title):\n",
    "    match = re.search(r\"سورة\\s[الء-ي]+\", title)\n",
    "    \n",
    "    if match is None:\n",
    "        # No match found\n",
    "        return None  # or raise an exception, return a default value, etc.\n",
    "    \n",
    "    return match.group(0)"
   ]
  },
  {
   "cell_type": "code",
   "execution_count": 5,
   "metadata": {},
   "outputs": [],
   "source": [
    "def logging_in(reciter ,title,df):\n",
    "    \"\"\"\n",
    "    logginf in the name of the reciter and the name of the sura\n",
    "    \"\"\"\n",
    "    sura = get_sura(title)\n",
    "    reciter_name = reciter\n",
    "    new_row = {'reciter': reciter_name, 'sura':sura}\n",
    "    print(f\"logging in {reciter} for {sura}\")\n",
    "    df.loc[len(df)] = new_row\n",
    "    return df"
   ]
  },
  {
   "cell_type": "code",
   "execution_count": 6,
   "metadata": {},
   "outputs": [],
   "source": [
    "def random_slicer(input_list, num_items):\n",
    "    \"\"\"\n",
    "    slices three random items from a list\n",
    "    \"\"\"\n",
    "    # Make a copy of the input list to avoid modifying the original list\n",
    "    input_list = list(input_list)\n",
    "    shuffled_list = input_list.copy()\n",
    "\n",
    "    # Shuffle the list randomly\n",
    "    random.shuffle(shuffled_list)\n",
    "\n",
    "    # Slice the first 'num_items' elements from the shuffled list\n",
    "    sliced_items = shuffled_list[:num_items]\n",
    "\n",
    "    return sliced_items"
   ]
  },
  {
   "cell_type": "code",
   "execution_count": 7,
   "metadata": {},
   "outputs": [],
   "source": [
    "def get_title(url):\n",
    "    yt = YouTube(url)\n",
    "    audio_stream = yt.streams.get_audio_only(\"mp4\")\n",
    "    return audio_stream.title"
   ]
  },
  {
   "cell_type": "code",
   "execution_count": 9,
   "metadata": {},
   "outputs": [],
   "source": [
    "def download_audio_from_playlist(url, output_path, df):\n",
    "    try:\n",
    "        playlist = Playlist(url)\n",
    "        urls = playlist.video_urls\n",
    "\n",
    "        sura = None  # Initialize sura outside the loop\n",
    "\n",
    "        while True:\n",
    "            shuffled_playlist = random_slicer(urls, 10)\n",
    "\n",
    "            for url in shuffled_playlist:\n",
    "                title = get_title(url)\n",
    "                reciter = get_reciter(RECITERS, title)\n",
    "\n",
    "                if reciter is None:\n",
    "                    reciter = get_reciter(RECITERS, playlist.title)\n",
    "                else:\n",
    "                    sura = get_sura(title)\n",
    "                    df_new = logging_in(reciter, title, df)\n",
    "\n",
    "                    if sura is not None:\n",
    "                        if get_thresh(df_new, sura, reciter):\n",
    "                            print('Reslicing the playlist')\n",
    "                            break  # Break out of the inner loop to re-randomize the playlist\n",
    "                        else:\n",
    "                            try:\n",
    "                                download_youtube_audio(url, output_path)\n",
    "                                print(f\"Downloading {sura} for {reciter}\\n Title of the video is {title}\")\n",
    "                            except Exception as e:\n",
    "                                print(f\"Error processing video: {title} - {e}\")\n",
    "    \n",
    "    except:\n",
    "        print(\"Couldn't return playlist\")\n",
    "        return title, reciter, sura, df_new\n"
   ]
  },
  {
   "cell_type": "code",
   "execution_count": 11,
   "metadata": {},
   "outputs": [
    {
     "data": {
      "text/plain": [
       "['احمد الشلبي',\n",
       " 'علاء عقل',\n",
       " 'اسماعيل القاضي',\n",
       " 'علاء ياسر',\n",
       " 'محمد حجازي',\n",
       " 'محمد نصر الدين',\n",
       " 'مختار الحاج',\n",
       " 'إرويانتو',\n",
       " 'زين ابو كوثر',\n",
       " 'Zain Abu Kautsar',\n",
       " 'حسين عبد الظاهر',\n",
       " 'طارق محمد',\n",
       " 'عبد الباسط',\n",
       " 'المنشاوي',\n",
       " 'عبد العزيز سحيم']"
      ]
     },
     "execution_count": 11,
     "metadata": {},
     "output_type": "execute_result"
    }
   ],
   "source": [
    "RECITERS"
   ]
  },
  {
   "cell_type": "code",
   "execution_count": null,
   "metadata": {},
   "outputs": [],
   "source": [
    "# List of YouTube video URLs\n",
    "video_urls = {\n",
    "        #  \"عبد الباسط\":[\n",
    "        #                \"https://www.youtube.com/playlist?list=PLdgJ3Z9AFIkVxK28C8vDmeMXDHvpCTwGi\",\n",
    "        #                \"https://www.youtube.com/playlist?list=PL7FQ8_TtkWWGPqGeX1t9Y7Ls4c_n6Fx8_\"],\n",
    "\n",
    "        #  \"المنشاوي\":[\"https://www.youtube.com/playlist?list=PLr2rWP0a1jdHTsYPbz0hiDfa0-VeRFeJ2\",\n",
    "        #              \"https://www.youtube.com/playlist?list=PLMrC4AI4wdRrSQLGtK4nmSJXlC1sZLhy8\",\n",
    "        #              \"https://www.youtube.com/playlist?list=PLr2rWP0a1jdHQWhdLZDW5Gsri4_cPqD8_\"],\n",
    "\n",
    "    #    \"طارق محمد\":[\n",
    "\n",
    "    #                 \"https://www.youtube.com/playlist?list=PLZ8mb5KlWBIyEfWHl2cvH-817c630_dcr\"]\n",
    "        \n",
    "}\n",
    "\n",
    "for name , playlists in video_urls.items():\n",
    "    os.makedirs(f\"data/{name}\", exist_ok=True)\n",
    "    print(f'creating directory for {name}')\n",
    "    for playlist in playlists:\n",
    "             \n",
    "        relative_output_dir_path = os.path.relpath(f\"data/{name}\")\n",
    "\n",
    "        title,reciter,sura,_ = download_audio_from_playlist(playlist, relative_output_dir_path, df)\n",
    "\n",
    "        videos_for_conv_paths = glob(os.path.join(relative_output_dir_path,\"*.mp4\"))\n",
    "        for i,video in tqdm(enumerate(videos_for_conv_paths)):\n",
    "\n",
    "            prefix = f\"{title[:-1]}_{reciter}_{sura}_{i + 1}\"\n",
    "\n",
    "            split_audio(video,prefix, relative_output_dir_path)\n",
    "            \n",
    "        for file in videos_for_conv_paths:\n",
    "            # if filename.endswith(\".mp4\"):\n",
    "            #     file_path = os.path.join(relative_output_dir_path, filename)\n",
    "                os.remove(file)\n",
    "                print(f\"Deleted: {file}\")\n",
    "        print(\"Restarting\")\n",
    "        "
   ]
  },
  {
   "cell_type": "code",
   "execution_count": null,
   "metadata": {},
   "outputs": [],
   "source": [
    "df"
   ]
  },
  {
   "cell_type": "markdown",
   "metadata": {},
   "source": [
    "# Mass download from single urls"
   ]
  },
  {
   "cell_type": "code",
   "execution_count": 16,
   "metadata": {},
   "outputs": [],
   "source": [
    "links = [\n",
    "\n",
    "    \"https://www.youtube.com/watch?v=GqbV7P9ynn8&t=267s\",\n",
    "    \"https://www.youtube.com/watch?v=jVkWlaP1BSM\",\n",
    "    \"https://www.youtube.com/watch?v=pJxZcVp03TE\",\n",
    "    \"https://www.youtube.com/watch?v=YOjqQ4x9ow4\",\n",
    "    \n",
    "]\n",
    "\n",
    "# nine diverse urls for each reciter\n",
    "# but we need to define our global variables first!\n",
    "NAME =  \"طارق محمد\"\n",
    "path = f\"data/single/{NAME}\"\n",
    "os.makedirs(path, exist_ok=True) #create dir for the reciter for a yt video instead of the playlist dir\n",
    "\n",
    "relative_output_dir_path = os.path.relpath(path) # get the relative path"
   ]
  },
  {
   "cell_type": "code",
   "execution_count": null,
   "metadata": {},
   "outputs": [],
   "source": [
    "for link in links: # iterate over the links\n",
    "    \n",
    "    with tqdm(desc=f\"Downloading: {link}\", unit=\"file\") as progress_bar:\n",
    "        download_youtube_audio(link, relative_output_dir_path, progress_callback=progress_bar.update)#download the actual video"
   ]
  },
  {
   "cell_type": "code",
   "execution_count": null,
   "metadata": {},
   "outputs": [],
   "source": [
    "videos_for_conv_paths = glob(os.path.join(relative_output_dir_path,\"*.mp4\")) # get the mp4 file in the dir\n",
    "for i,video in enumerate(videos_for_conv_paths): #iterate over this list \n",
    "        prefix = f\"{NAME}_URL({i + 1})\" #use the index for knowing which video (it will help us later to know which item to select)\n",
    "        split_audio(video,prefix, relative_output_dir_path)\n",
    "        gprint(f\"{video}: Audio Split Done\")\n",
    "        os.remove(video)\n",
    "        rprint(f\"{video}: Video Deleted\")"
   ]
  },
  {
   "cell_type": "code",
   "execution_count": 17,
   "metadata": {},
   "outputs": [
    {
     "name": "stderr",
     "output_type": "stream",
     "text": [
      "\u001b[91m██████████| 20256/20256 [18:19<00:00, 18.42file/s]\u001b[0m"
     ]
    },
    {
     "name": "stdout",
     "output_type": "stream",
     "text": [
      ".mp3's Deleted\n"
     ]
    },
    {
     "name": "stderr",
     "output_type": "stream",
     "text": [
      "\n"
     ]
    }
   ],
   "source": [
    "segments_for_deletion = glob(os.path.join(relative_output_dir_path,\"*.mp3\"))\n",
    "progress_bar = colored_tqdm(segments_for_deletion, color_code=\"\\033[91m\", desc=\"Deleted after conversion to wav\", unit=\"file\")    \n",
    "for segment in progress_bar:\n",
    "    try:\n",
    "        # Check if the file has .mp3 extension\n",
    "        if segment.lower().endswith(\".mp3\"):\n",
    "            subprocess.run(['ffmpeg', '-y', '-loglevel', 'panic', '-i', segment, '-acodec', 'pcm_s16le', '-ar', '44100', f\"{segment[:-4]}.wav\"])\n",
    "            os.remove(segment)\n",
    "            progress_bar.set_description(f\"{os.path.basename(segment)} Deleted after conversion to wav\")\n",
    "        else:\n",
    "            rprint(f\"Skipping non-MP3 file: {os.path.basename(segment)}\")\n",
    "\n",
    "    except Exception as e:\n",
    "        rprint(f\"Error processing {os.path.basename(segment)}: {e}\")\n",
    "\n",
    "progress_bar.close()\n",
    "print(\".mp3's Deleted\")"
   ]
  },
  {
   "cell_type": "code",
   "execution_count": 6,
   "metadata": {},
   "outputs": [
    {
     "data": {
      "text/plain": [
       "'test_examples/alaa'"
      ]
     },
     "execution_count": 6,
     "metadata": {},
     "output_type": "execute_result"
    }
   ],
   "source": [
    "import os\n",
    "\"test_examples/alaa.wav\".removesuffix(\".wav\")"
   ]
  },
  {
   "cell_type": "code",
   "execution_count": null,
   "metadata": {},
   "outputs": [],
   "source": []
  }
 ],
 "metadata": {
  "kernelspec": {
   "display_name": "tf",
   "language": "python",
   "name": "python3"
  },
  "language_info": {
   "codemirror_mode": {
    "name": "ipython",
    "version": 3
   },
   "file_extension": ".py",
   "mimetype": "text/x-python",
   "name": "python",
   "nbconvert_exporter": "python",
   "pygments_lexer": "ipython3",
   "version": "3.9.18"
  }
 },
 "nbformat": 4,
 "nbformat_minor": 2
}

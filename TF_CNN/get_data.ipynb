{
 "cells": [
  {
   "cell_type": "code",
   "execution_count": 11,
   "metadata": {},
   "outputs": [
    {
     "name": "stdout",
     "output_type": "stream",
     "text": [
      "Original Sample Rate: 48000\n",
      "Required Sample Rate: 47981.583333333336\n"
     ]
    }
   ],
   "source": [
    "import librosa\n",
    "# Assuming the desired duration is 30 seconds\n",
    "desired_duration = 60.0  # in seconds\n",
    "\n",
    "# Replace 'your_audio_file.wav' with the path to your audio file\n",
    "audio_file_path = '/mnt/c/FOLDERSSSSSSSSSSSSSSSSSS/Projects/Quran-Reciters-Classifier/data/ALAA YASSER/سورة الكهف ( كاملة ) تلاوة تريح القلب والعقل - علاء ياسر _ Surah Alkahf ( Full ) By Alaa Yasir.mp3_segment_000.mp3'\n",
    "\n",
    "# Load the audio file to get the number of samples\n",
    "audio_signal, original_sample_rate = librosa.load(audio_file_path, sr=None)\n",
    "\n",
    "# Calculate the required sample rate\n",
    "required_sample_rate = len(audio_signal) / desired_duration\n",
    "\n",
    "print(f\"Original Sample Rate: {original_sample_rate}\")\n",
    "print(f\"Required Sample Rate: {required_sample_rate}\")\n"
   ]
  },
  {
   "cell_type": "code",
   "execution_count": 10,
   "metadata": {},
   "outputs": [],
   "source": [
    "import os\n",
    "import subprocess\n",
    "\n",
    "def split_and_delete_audio(input_directory, output_directory, segment_duration=60):\n",
    "    # Iterate over each file in the input directory\n",
    "    for filename in os.listdir(input_directory):\n",
    "        if filename.endswith(\".mp3\") or filename.endswith(\".wav\"):\n",
    "            file_path = os.path.join(input_directory, filename)\n",
    "\n",
    "            # Use ffmpeg to split the audio into 1-minute segments\n",
    "            output_filename = f\"{filename}_segment_%03d.mp3\"\n",
    "            output_path = os.path.join(output_directory, output_filename)\n",
    "            subprocess.run([\n",
    "                \"ffmpeg\",\n",
    "                \"-i\", file_path,\n",
    "                \"-f\", \"segment\",\n",
    "                \"-segment_time\", str(segment_duration),\n",
    "                \"-c\", \"copy\",\n",
    "                output_path\n",
    "            ], stdout=subprocess.PIPE, stderr=subprocess.PIPE)\n",
    "\n",
    "            # Remove the original file\n",
    "            os.remove(file_path)\n",
    "\n",
    "# Example usage\n",
    "input_dir = \"/mnt/c/FOLDERSSSSSSSSSSSSSSSSSS/Projects/Quran-Reciters-Classifier/data/AHMED EL SHALABY\"\n",
    "output_dir = \"/mnt/c/FOLDERSSSSSSSSSSSSSSSSSS/Projects/Quran-Reciters-Classifier/data/AHMED EL SHALABY/seg\"\n",
    "split_and_delete_audio(input_dir, output_dir)"
   ]
  },
  {
   "cell_type": "code",
   "execution_count": null,
   "metadata": {},
   "outputs": [],
   "source": []
  }
 ],
 "metadata": {
  "kernelspec": {
   "display_name": "clf",
   "language": "python",
   "name": "python3"
  },
  "language_info": {
   "codemirror_mode": {
    "name": "ipython",
    "version": 3
   },
   "file_extension": ".py",
   "mimetype": "text/x-python",
   "name": "python",
   "nbconvert_exporter": "python",
   "pygments_lexer": "ipython3",
   "version": "3.9.18"
  }
 },
 "nbformat": 4,
 "nbformat_minor": 2
}

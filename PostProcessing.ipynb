{
 "cells": [
  {
   "cell_type": "code",
   "execution_count": 1,
   "metadata": {},
   "outputs": [],
   "source": [
    "import os\n",
    "from vals import shuffle_and_copy_data"
   ]
  },
  {
   "cell_type": "code",
   "execution_count": 2,
   "metadata": {},
   "outputs": [
    {
     "data": {
      "text/plain": [
       "['احمد الشلبي',\n",
       " 'اسماعيل القاضي',\n",
       " 'المنشاوي',\n",
       " 'طارق محمد',\n",
       " 'عبد الباسط',\n",
       " 'علاء عقل',\n",
       " 'علاء ياسر']"
      ]
     },
     "execution_count": 2,
     "metadata": {},
     "output_type": "execute_result"
    }
   ],
   "source": [
    "reciters = sorted(os.listdir('data/single'))\n",
    "reciters"
   ]
  },
  {
   "cell_type": "markdown",
   "metadata": {},
   "source": [
    "# Shuffle files and keep `2000` only"
   ]
  },
  {
   "cell_type": "code",
   "execution_count": 3,
   "metadata": {},
   "outputs": [],
   "source": [
    "for reciter in reciters:\n",
    "    input_directory = f\"data/single/{reciter}\"\n",
    "    output_directory = f\"quran/{reciter}\"\n",
    "\n",
    "    # Specify the number of files to save for each subdirectory\n",
    "    num_files_to_save = 5000\n",
    "\n",
    "    # Call the function to shuffle and copy the data\n",
    "    shuffle_and_copy_data(input_directory, output_directory, num_files_to_save)"
   ]
  },
  {
   "cell_type": "code",
   "execution_count": null,
   "metadata": {},
   "outputs": [],
   "source": []
  }
 ],
 "metadata": {
  "kernelspec": {
   "display_name": "tf",
   "language": "python",
   "name": "python3"
  },
  "language_info": {
   "codemirror_mode": {
    "name": "ipython",
    "version": 3
   },
   "file_extension": ".py",
   "mimetype": "text/x-python",
   "name": "python",
   "nbconvert_exporter": "python",
   "pygments_lexer": "ipython3",
   "version": "3.9.18"
  }
 },
 "nbformat": 4,
 "nbformat_minor": 2
}

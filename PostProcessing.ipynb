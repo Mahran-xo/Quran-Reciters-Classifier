{
 "cells": [
  {
   "cell_type": "code",
   "execution_count": 1,
   "metadata": {},
   "outputs": [],
   "source": [
    "import os\n",
    "from vals import shuffle_and_copy_data"
   ]
  },
  {
   "cell_type": "code",
   "execution_count": 2,
   "metadata": {},
   "outputs": [
    {
     "data": {
      "text/plain": [
       "['ابراهيم عبد المنعم صوتيات',\n",
       " 'احمد الشلبي صوتيات جاهزة',\n",
       " 'اسماعيل القاضي صوتيات جاهزة',\n",
       " 'اوريانتو',\n",
       " 'ايوب مصعب صوتيات جاهزة',\n",
       " 'حسين عبد الضاهر صوتيات جاهزة',\n",
       " 'خالد طوالبة صوتيات جاهزة',\n",
       " 'زين ابو الكوثر صوتيات جاهزة',\n",
       " 'طارق محمد صوتيات جاهزة',\n",
       " 'علاء عقل صوتيات جاهز',\n",
       " 'علاء ياسر صوتيات جاهزة',\n",
       " 'محمد حجازي صوتيات جاهز',\n",
       " 'مختار الحاج صوتيات جاهزة']"
      ]
     },
     "execution_count": 2,
     "metadata": {},
     "output_type": "execute_result"
    }
   ],
   "source": [
    "reciters = sorted(os.listdir('quran'))\n",
    "reciters"
   ]
  },
  {
   "cell_type": "markdown",
   "metadata": {},
   "source": [
    "# Shuffle files and keep `2000` only"
   ]
  },
  {
   "cell_type": "code",
   "execution_count": 3,
   "metadata": {},
   "outputs": [],
   "source": [
    "for reciter in reciters:\n",
    "    input_directory = f\"quran/{reciter}\"\n",
    "    output_directory = f\"quran/balanced/{reciter}\"\n",
    "\n",
    "    # Specify the number of files to save for each subdirectory\n",
    "    num_files_to_save = 500\n",
    "\n",
    "    # Call the function to shuffle and copy the data\n",
    "    shuffle_and_copy_data(input_directory, output_directory, num_files_to_save)"
   ]
  },
  {
   "cell_type": "code",
   "execution_count": null,
   "metadata": {},
   "outputs": [],
   "source": []
  }
 ],
 "metadata": {
  "kernelspec": {
   "display_name": "tf",
   "language": "python",
   "name": "python3"
  },
  "language_info": {
   "codemirror_mode": {
    "name": "ipython",
    "version": 3
   },
   "file_extension": ".py",
   "mimetype": "text/x-python",
   "name": "python",
   "nbconvert_exporter": "python",
   "pygments_lexer": "ipython3",
   "version": "3.9.18"
  }
 },
 "nbformat": 4,
 "nbformat_minor": 2
}
